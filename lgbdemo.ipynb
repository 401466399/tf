{
 "cells": [
  {
   "cell_type": "code",
   "execution_count": 1,
   "metadata": {},
   "outputs": [],
   "source": [
    "import lightgbm as lgb"
   ]
  },
  {
   "cell_type": "code",
   "execution_count": 49,
   "metadata": {},
   "outputs": [],
   "source": [
    "# 预测在哪些叶子上：\n",
    "# y_pred_leaf = gbm.predict(X_test,  num_iteration=gbm.best_iteration, pred_leaf=True)"
   ]
  },
  {
   "cell_type": "code",
   "execution_count": 43,
   "metadata": {},
   "outputs": [
    {
     "data": {
      "text/plain": [
       "'2.3.0'"
      ]
     },
     "execution_count": 43,
     "metadata": {},
     "output_type": "execute_result"
    }
   ],
   "source": [
    "lgb.__version__"
   ]
  },
  {
   "cell_type": "code",
   "execution_count": 44,
   "metadata": {},
   "outputs": [
    {
     "name": "stdout",
     "output_type": "stream",
     "text": [
      "Loading data...\n",
      "Starting training...\n",
      "[1]\tvalid_0's l2: 0.24288\tvalid_0's l1: 0.491812\n",
      "Training until validation scores don't improve for 5 rounds\n",
      "[2]\tvalid_0's l2: 0.239307\tvalid_0's l1: 0.48798\n",
      "[3]\tvalid_0's l2: 0.235559\tvalid_0's l1: 0.483905\n",
      "[4]\tvalid_0's l2: 0.230771\tvalid_0's l1: 0.478533\n",
      "[5]\tvalid_0's l2: 0.226297\tvalid_0's l1: 0.47333\n",
      "[6]\tvalid_0's l2: 0.223692\tvalid_0's l1: 0.470079\n",
      "[7]\tvalid_0's l2: 0.220941\tvalid_0's l1: 0.466768\n",
      "[8]\tvalid_0's l2: 0.217982\tvalid_0's l1: 0.462971\n",
      "[9]\tvalid_0's l2: 0.215351\tvalid_0's l1: 0.459474\n",
      "[10]\tvalid_0's l2: 0.213064\tvalid_0's l1: 0.45619\n",
      "[11]\tvalid_0's l2: 0.211053\tvalid_0's l1: 0.4532\n",
      "[12]\tvalid_0's l2: 0.209336\tvalid_0's l1: 0.450526\n",
      "[13]\tvalid_0's l2: 0.207492\tvalid_0's l1: 0.447621\n",
      "[14]\tvalid_0's l2: 0.206016\tvalid_0's l1: 0.445178\n",
      "[15]\tvalid_0's l2: 0.204677\tvalid_0's l1: 0.442718\n",
      "[16]\tvalid_0's l2: 0.203224\tvalid_0's l1: 0.440293\n",
      "[17]\tvalid_0's l2: 0.201186\tvalid_0's l1: 0.437015\n",
      "[18]\tvalid_0's l2: 0.199626\tvalid_0's l1: 0.434725\n",
      "[19]\tvalid_0's l2: 0.198689\tvalid_0's l1: 0.432653\n",
      "[20]\tvalid_0's l2: 0.197377\tvalid_0's l1: 0.430279\n",
      "Did not meet early stopping. Best iteration is:\n",
      "[20]\tvalid_0's l2: 0.197377\tvalid_0's l1: 0.430279\n",
      "Saving model...\n"
     ]
    },
    {
     "data": {
      "text/plain": [
       "<lightgbm.basic.Booster at 0x7fc4fd1c7080>"
      ]
     },
     "execution_count": 44,
     "metadata": {},
     "output_type": "execute_result"
    }
   ],
   "source": [
    "import pandas as pd\n",
    "from sklearn.metrics import mean_squared_error\n",
    "\n",
    "print('Loading data...')\n",
    "# load or create your dataset\n",
    "df_train = pd.read_csv('data/regression/regression.train', header=None, sep='\\t')\n",
    "df_test = pd.read_csv('data/regression/regression.test', header=None, sep='\\t')\n",
    "\n",
    "y_train = df_train[0]\n",
    "y_test = df_test[0]\n",
    "X_train = df_train.drop(0, axis=1)\n",
    "X_test = df_test.drop(0, axis=1)\n",
    "\n",
    "# create dataset for lightgbm\n",
    "lgb_train = lgb.Dataset(X_train, y_train)\n",
    "lgb_eval = lgb.Dataset(X_test, y_test, reference=lgb_train) # reference (Dataset or None, optional (default=None)) – If this is Dataset for validation, training data should be used as reference.\n",
    "\n",
    "# specify your configurations as a dict\n",
    "params = {\n",
    "    'boosting_type': 'gbdt',\n",
    "    'objective': 'regression',\n",
    "    'metric': {'l2', 'l1'},\n",
    "    'num_leaves': 31,\n",
    "    'learning_rate': 0.05,\n",
    "    'feature_fraction': 0.9,\n",
    "    'bagging_fraction': 0.8,\n",
    "    'bagging_freq': 5,\n",
    "    'verbose': 0\n",
    "}\n",
    "\n",
    "print('Starting training...')\n",
    "# train\n",
    "gbm = lgb.train(params,\n",
    "                lgb_train,\n",
    "                num_boost_round=20,\n",
    "                valid_sets=lgb_eval,\n",
    "                early_stopping_rounds=5)\n",
    "\n",
    "print('Saving model...')\n",
    "# save model to file\n",
    "gbm.save_model('model.txt')"
   ]
  },
  {
   "cell_type": "code",
   "execution_count": 45,
   "metadata": {},
   "outputs": [
    {
     "name": "stdout",
     "output_type": "stream",
     "text": [
      "Starting predicting...\n",
      "The rmse of prediction is: 0.44427172467679765\n"
     ]
    }
   ],
   "source": [
    "print('Starting predicting...')\n",
    "# predict\n",
    "y_pred = gbm.predict(X_test, num_iteration=gbm.best_iteration)\n",
    "# eval\n",
    "print('The rmse of prediction is:', mean_squared_error(y_test, y_pred) ** 0.5)"
   ]
  },
  {
   "cell_type": "code",
   "execution_count": 46,
   "metadata": {},
   "outputs": [],
   "source": [
    "y_pred_leaf = gbm.predict(X_test,  num_iteration=gbm.best_iteration, pred_leaf=True)"
   ]
  },
  {
   "cell_type": "code",
   "execution_count": 47,
   "metadata": {},
   "outputs": [
    {
     "data": {
      "text/plain": [
       "(500, 20)"
      ]
     },
     "execution_count": 47,
     "metadata": {},
     "output_type": "execute_result"
    }
   ],
   "source": [
    "y_pred_leaf.shape # num_boost_round表示树的个数"
   ]
  },
  {
   "cell_type": "code",
   "execution_count": 48,
   "metadata": {},
   "outputs": [
    {
     "data": {
      "text/plain": [
       "(array([0.5947354 , 0.45111956, 0.34806607, 0.50889704, 0.36426725,\n",
       "        0.33970103, 0.4413845 , 0.36607818, 0.69598061, 0.40820738]),\n",
       " array([[29,  2,  8, 30,  2, 15,  9, 24,  2, 20, 17, 30, 19, 26,  7, 14,\n",
       "         17, 29, 20, 18],\n",
       "        [ 3,  9, 18,  6,  6,  4, 11, 12, 17, 16,  4, 22,  3,  3,  3, 28,\n",
       "         28, 15, 13, 14],\n",
       "        [24, 16, 23,  1,  1,  2,  0,  2, 22,  2,  5,  5,  7,  4,  6,  2,\n",
       "          2, 10, 30,  1],\n",
       "        [ 7,  2, 29, 22,  3,  7,  7,  6, 16,  7,  9, 11,  5, 20,  5, 12,\n",
       "         16,  1, 19, 17],\n",
       "        [16, 27, 14,  5, 19,  5, 15,  5, 14,  5, 14, 14, 25, 17, 20,  7,\n",
       "          6,  3,  5,  7],\n",
       "        [ 3,  2, 25,  3,  3, 14, 22, 21,  3, 15,  9, 11,  3, 23,  3, 26,\n",
       "         26, 15, 26,  0],\n",
       "        [16, 12,  3,  5, 19,  5,  4,  5,  1,  5, 14, 14,  1, 17, 20,  7,\n",
       "          6, 23,  5,  7],\n",
       "        [16, 18, 13,  5, 19,  5,  7,  5, 15,  5, 14, 14, 13, 17, 20,  7,\n",
       "          6, 24,  5,  7],\n",
       "        [29,  8,  7, 30,  2, 15, 25, 30,  4, 14, 19, 23,  6,  3, 12,  3,\n",
       "          3, 10,  3,  3],\n",
       "        [ 1,  1,  7, 20, 23, 23, 24, 20, 26,  1,  1,  1, 16, 27, 30, 16,\n",
       "         25, 11,  1,  1]], dtype=int32))"
      ]
     },
     "execution_count": 48,
     "metadata": {},
     "output_type": "execute_result"
    }
   ],
   "source": [
    "y_pred[:10], y_pred_leaf[:10]"
   ]
  },
  {
   "cell_type": "code",
   "execution_count": 39,
   "metadata": {},
   "outputs": [
    {
     "data": {
      "text/plain": [
       "{'boosting_type': 'gbdt',\n",
       " 'objective': 'regression',\n",
       " 'metric': {'l1', 'l2'},\n",
       " 'num_leaves': 31,\n",
       " 'learning_rate': 0.05,\n",
       " 'feature_fraction': 0.9,\n",
       " 'bagging_fraction': 0.8,\n",
       " 'bagging_freq': 5,\n",
       " 'verbose': 0}"
      ]
     },
     "execution_count": 39,
     "metadata": {},
     "output_type": "execute_result"
    }
   ],
   "source": [
    "gbm.params"
   ]
  },
  {
   "cell_type": "code",
   "execution_count": null,
   "metadata": {},
   "outputs": [],
   "source": []
  }
 ],
 "metadata": {
  "kernelspec": {
   "display_name": "Python 3",
   "language": "python",
   "name": "python3"
  },
  "language_info": {
   "codemirror_mode": {
    "name": "ipython",
    "version": 3
   },
   "file_extension": ".py",
   "mimetype": "text/x-python",
   "name": "python",
   "nbconvert_exporter": "python",
   "pygments_lexer": "ipython3",
   "version": "3.7.3"
  }
 },
 "nbformat": 4,
 "nbformat_minor": 2
}
